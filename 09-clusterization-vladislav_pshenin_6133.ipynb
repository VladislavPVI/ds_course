{
 "cells": [
  {
   "cell_type": "markdown",
   "metadata": {},
   "source": [
    "# 09 Кластеризация. Пшенин Владислав Игоревич 6133"
   ]
  },
  {
   "cell_type": "code",
   "execution_count": 41,
   "metadata": {},
   "outputs": [],
   "source": [
    "import pandas as pd\n",
    "import numpy as np\n",
    "from scipy.spatial.distance import pdist\n",
    "from scipy.cluster import hierarchy\n",
    "import matplotlib.pyplot as plt\n",
    "from sklearn.cluster import KMeans\n",
    "from sklearn import metrics\n",
    "from sklearn.metrics import silhouette_score\n",
    "from sklearn.metrics import adjusted_rand_score, adjusted_mutual_info_score, completeness_score, homogeneity_score, v_measure_score"
   ]
  },
  {
   "cell_type": "markdown",
   "metadata": {},
   "source": [
    "## Найти датасет для кластеризации: для этого берём датасет для мультиклассовой классификации и временно убираем метки классов. "
   ]
  },
  {
   "cell_type": "code",
   "execution_count": 5,
   "metadata": {},
   "outputs": [],
   "source": [
    "# Read the data and create DataFrame from it\n",
    "data = pd.read_csv('Fish.csv')\n",
    "data['Species'] = pd.factorize(data['Species'])[0]"
   ]
  },
  {
   "cell_type": "markdown",
   "metadata": {},
   "source": [
    "https://www.kaggle.com/aungpyaeap/fish-market\n",
    "# Fish market\n",
    "## Database of common fish species for fish market\n",
    "### Columns\n",
    "Species\n",
    "species name of fish <br>\n",
    "Weight\n",
    "weight of fish in Gram g <br>\n",
    "Length1\n",
    "vertical length in cm <br>\n",
    "Length2\n",
    "diagonal length in cm <br>\n",
    "Length3\n",
    "cross length in cm <br>\n",
    "Height\n",
    "height in cm <br>\n",
    "Width\n",
    "diagonal width in cm <br>"
   ]
  },
  {
   "cell_type": "code",
   "execution_count": 6,
   "metadata": {},
   "outputs": [
    {
     "data": {
      "text/html": [
       "<div>\n",
       "<style scoped>\n",
       "    .dataframe tbody tr th:only-of-type {\n",
       "        vertical-align: middle;\n",
       "    }\n",
       "\n",
       "    .dataframe tbody tr th {\n",
       "        vertical-align: top;\n",
       "    }\n",
       "\n",
       "    .dataframe thead th {\n",
       "        text-align: right;\n",
       "    }\n",
       "</style>\n",
       "<table border=\"1\" class=\"dataframe\">\n",
       "  <thead>\n",
       "    <tr style=\"text-align: right;\">\n",
       "      <th></th>\n",
       "      <th>Weight</th>\n",
       "      <th>Length1</th>\n",
       "      <th>Length2</th>\n",
       "      <th>Length3</th>\n",
       "      <th>Height</th>\n",
       "      <th>Width</th>\n",
       "    </tr>\n",
       "  </thead>\n",
       "  <tbody>\n",
       "    <tr>\n",
       "      <th>0</th>\n",
       "      <td>242.0</td>\n",
       "      <td>23.2</td>\n",
       "      <td>25.4</td>\n",
       "      <td>30.0</td>\n",
       "      <td>11.5200</td>\n",
       "      <td>4.0200</td>\n",
       "    </tr>\n",
       "    <tr>\n",
       "      <th>1</th>\n",
       "      <td>290.0</td>\n",
       "      <td>24.0</td>\n",
       "      <td>26.3</td>\n",
       "      <td>31.2</td>\n",
       "      <td>12.4800</td>\n",
       "      <td>4.3056</td>\n",
       "    </tr>\n",
       "    <tr>\n",
       "      <th>2</th>\n",
       "      <td>340.0</td>\n",
       "      <td>23.9</td>\n",
       "      <td>26.5</td>\n",
       "      <td>31.1</td>\n",
       "      <td>12.3778</td>\n",
       "      <td>4.6961</td>\n",
       "    </tr>\n",
       "    <tr>\n",
       "      <th>3</th>\n",
       "      <td>363.0</td>\n",
       "      <td>26.3</td>\n",
       "      <td>29.0</td>\n",
       "      <td>33.5</td>\n",
       "      <td>12.7300</td>\n",
       "      <td>4.4555</td>\n",
       "    </tr>\n",
       "    <tr>\n",
       "      <th>4</th>\n",
       "      <td>430.0</td>\n",
       "      <td>26.5</td>\n",
       "      <td>29.0</td>\n",
       "      <td>34.0</td>\n",
       "      <td>12.4440</td>\n",
       "      <td>5.1340</td>\n",
       "    </tr>\n",
       "  </tbody>\n",
       "</table>\n",
       "</div>"
      ],
      "text/plain": [
       "   Weight  Length1  Length2  Length3   Height   Width\n",
       "0   242.0     23.2     25.4     30.0  11.5200  4.0200\n",
       "1   290.0     24.0     26.3     31.2  12.4800  4.3056\n",
       "2   340.0     23.9     26.5     31.1  12.3778  4.6961\n",
       "3   363.0     26.3     29.0     33.5  12.7300  4.4555\n",
       "4   430.0     26.5     29.0     34.0  12.4440  5.1340"
      ]
     },
     "execution_count": 6,
     "metadata": {},
     "output_type": "execute_result"
    }
   ],
   "source": [
    "Y = data['Species'].values \n",
    "dataNew = data.drop(['Species'], axis=1)\n",
    "dataNew.head()"
   ]
  },
  {
   "cell_type": "markdown",
   "metadata": {},
   "source": [
    "## Производим иерархическую агломеративную кластеризацию (scipy.cluster.hierarchy), строим график-дендрограмму (hierarchy.dendrogram)"
   ]
  },
  {
   "cell_type": "code",
   "execution_count": 7,
   "metadata": {},
   "outputs": [
    {
     "data": {
      "image/png": "[encoded data removed]",
      "text/plain": [
       "<Figure size 720x360 with 1 Axes>"
      ]
     },
     "metadata": {
      "needs_background": "light"
     },
     "output_type": "display_data"
    }
   ],
   "source": [
    "# pdist посчитает нам верхний треугольник матрицы попарных расстояний\n",
    "distance_mat = pdist(dataNew)\n",
    "# linkage — реализация агломеративного алгоритма\n",
    "Z = hierarchy.linkage(distance_mat, 'single')\n",
    "plt.figure(figsize=(10, 5))\n",
    "dn = hierarchy.dendrogram(Z, p=5, truncate_mode='level')"
   ]
  },
  {
   "cell_type": "markdown",
   "metadata": {},
   "source": [
    "## На том же датасете производим кластеризацию, используя любой другой метод кластеризации (пока с произвольными гиперпараметрами)"
   ]
  },
  {
   "cell_type": "code",
   "execution_count": 8,
   "metadata": {},
   "outputs": [
    {
     "data": {
      "text/plain": [
       "KMeans(n_clusters=7, random_state=0)"
      ]
     },
     "execution_count": 8,
     "metadata": {},
     "output_type": "execute_result"
    }
   ],
   "source": [
    "kmeans = KMeans(n_clusters=7, init='k-means++', max_iter=300, random_state=0)\n",
    "kmeans.fit(dataNew)"
   ]
  },
  {
   "cell_type": "code",
   "execution_count": 9,
   "metadata": {},
   "outputs": [
    {
     "data": {
      "text/plain": [
       "0.12895470049903135"
      ]
     },
     "execution_count": 9,
     "metadata": {},
     "output_type": "execute_result"
    }
   ],
   "source": [
    "# ARI\n",
    "adjusted_rand_score(Y, kmeans.labels_)"
   ]
  },
  {
   "cell_type": "code",
   "execution_count": 10,
   "metadata": {},
   "outputs": [
    {
     "data": {
      "text/plain": [
       "0.25447683049804126"
      ]
     },
     "execution_count": 10,
     "metadata": {},
     "output_type": "execute_result"
    }
   ],
   "source": [
    "# AMI\n",
    "adjusted_mutual_info_score(Y, kmeans.labels_)"
   ]
  },
  {
   "cell_type": "code",
   "execution_count": 11,
   "metadata": {},
   "outputs": [
    {
     "data": {
      "text/plain": [
       "0.2991617851894057"
      ]
     },
     "execution_count": 11,
     "metadata": {},
     "output_type": "execute_result"
    }
   ],
   "source": [
    "# Completeness\n",
    "completeness_score(Y, kmeans.labels_)"
   ]
  },
  {
   "cell_type": "markdown",
   "metadata": {},
   "source": [
    "## Произвести оптимизацию гиперпараметров кластеризации"
   ]
  },
  {
   "cell_type": "code",
   "execution_count": 30,
   "metadata": {},
   "outputs": [
    {
     "name": "stdout",
     "output_type": "stream",
     "text": [
      "2 0.023251641839538182\n",
      "3 0.0900939604305191\n",
      "4 0.1058440838997736\n",
      "5 0.12105419814934092\n",
      "6 0.10516130335142544\n",
      "7 0.12895470049903135\n",
      "8 0.12629751594966102\n",
      "9 0.13212514903484984\n",
      "10 0.11328840332365803\n",
      "11 0.14139748262467042\n",
      "12 0.12413230003831027\n",
      "13 0.12815888857709443\n",
      "14 0.1093504493609765\n",
      "15 0.10653143950180445\n",
      "16 0.11123248543843704\n",
      "17 0.11365772225682694\n",
      "18 0.1127273002089639\n",
      "19 0.10215136017505383\n",
      "20 0.10392453594664848\n",
      "21 0.10578124126102276\n",
      "22 0.1050382100696395\n",
      "23 0.10403337293644406\n",
      "24 0.10442129989988698\n",
      "25 0.10047737945496157\n",
      "26 0.09733228939913814\n",
      "27 0.08567945068066053\n",
      "28 0.08615420942972747\n",
      "29 0.08512021062402299\n",
      "30 0.08805887603119018\n",
      "31 0.0875390918956888\n",
      "32 0.08756978452925461\n",
      "33 0.08916738561792874\n",
      "34 0.08936296543126086\n",
      "35 0.09282146736662279\n",
      "36 0.09326657752599159\n",
      "37 0.08963757802924797\n",
      "38 0.08854320690711173\n",
      "39 0.07804608625290775\n",
      "40 0.07869232200260447\n",
      "41 0.07910840086192832\n",
      "42 0.07902480940297867\n",
      "43 0.07811081792959193\n",
      "44 0.06506382249073712\n",
      "45 0.06538479408360284\n",
      "46 0.06320585952913103\n",
      "47 0.06529450563763121\n",
      "48 0.06561682917169544\n",
      "49 0.06532981646446363\n",
      "50 0.06727144801240441\n",
      "51 0.07966658346657621\n",
      "52 0.07710992433222444\n",
      "53 0.07645464018989667\n",
      "54 0.07530440522513096\n",
      "55 0.06626107429094073\n",
      "56 0.0664245237920995\n",
      "57 0.0502124776579611\n",
      "58 0.06062280414777868\n",
      "59 0.050458784208661976\n",
      "60 0.050374027016728176\n",
      "61 0.05053564445140144\n",
      "62 0.0628371214065714\n",
      "63 0.06181983584176092\n",
      "64 0.062080115056105376\n",
      "65 0.06463962088817618\n",
      "66 0.06234105193510663\n",
      "67 0.06358968446893945\n",
      "68 0.06490962776930169\n",
      "69 0.0637876936505987\n",
      "70 0.05799952500860954\n",
      "71 0.058985935978278156\n",
      "72 0.058492416693187804\n",
      "73 0.05792854141667365\n",
      "74 0.04594879076031621\n",
      "75 0.045540129465354344\n",
      "76 0.04496792315434187\n",
      "77 0.045211706664492715\n",
      "78 0.04349694575450258\n",
      "79 0.043086970813608134\n",
      "80 0.04324983235647473\n",
      "81 0.044144753530058346\n",
      "82 0.04349156030143767\n",
      "83 0.04479907025321566\n",
      "84 0.04545451337202614\n",
      "85 0.044384477441023\n",
      "86 0.044548531422648516\n",
      "87 0.04413644611352519\n",
      "88 0.044628978506995806\n",
      "89 0.0335595823954358\n",
      "90 0.03388449437958848\n",
      "91 0.03304697091795829\n",
      "92 0.033372083296330186\n",
      "93 0.032790164924451866\n",
      "94 0.030622171580187266\n",
      "95 0.028645957035423206\n",
      "96 0.030201083197508423\n",
      "97 0.02961746461149512\n",
      "98 0.030104168755612302\n",
      "99 0.02952002150956341\n"
     ]
    }
   ],
   "source": [
    "score = []\n",
    "\n",
    "for i in range(2, 100):\n",
    "    kmeans = KMeans(n_clusters=i, init='k-means++', max_iter=500, random_state=0)\n",
    "    kmeans.fit(dataNew)\n",
    "    ari = adjusted_rand_score(Y, kmeans.labels_)\n",
    "    print(i,ari)\n",
    "    score.append(ari)"
   ]
  },
  {
   "cell_type": "code",
   "execution_count": 33,
   "metadata": {},
   "outputs": [
    {
     "name": "stdout",
     "output_type": "stream",
     "text": [
      "best n_clusters: 11 best ari: 0.14139748262467042\n"
     ]
    }
   ],
   "source": [
    "# best n_clusters\n",
    "print('best n_clusters:',score.index(max(score))+2,'best ari:',max(score))"
   ]
  },
  {
   "cell_type": "markdown",
   "metadata": {},
   "source": [
    "## Используя алгоритм/модель из п. 2 произвести оптимизацию гиперпараметра количества кластеров, используя \"правило локтя\" (анализируем график силуэта)"
   ]
  },
  {
   "cell_type": "code",
   "execution_count": 37,
   "metadata": {},
   "outputs": [
    {
     "data": {
      "image/png": "[encoded data removed]",
      "text/plain": [
       "<Figure size 1080x360 with 1 Axes>"
      ]
     },
     "metadata": {
      "needs_background": "light"
     },
     "output_type": "display_data"
    }
   ],
   "source": [
    "wcss = []\n",
    "for i in range(1, 15):\n",
    "    kmeans = KMeans(n_clusters=i, init='k-means++', max_iter=300, random_state=0)\n",
    "    kmeans.fit(dataNew)\n",
    "    wcss.append(kmeans.inertia_)\n",
    "plt.figure(figsize=(15,5))\n",
    "plt.grid()\n",
    "plt.plot(range(1, 15), wcss)\n",
    "plt.title('Elbow Method')\n",
    "plt.xlabel('Number of clusters')\n",
    "plt.ylabel('WCSS')\n",
    "plt.show()"
   ]
  },
  {
   "cell_type": "code",
   "execution_count": 47,
   "metadata": {},
   "outputs": [
    {
     "data": {
      "image/png": "[encoded data removed]",
      "text/plain": [
       "<Figure size 1080x360 with 1 Axes>"
      ]
     },
     "metadata": {
      "needs_background": "light"
     },
     "output_type": "display_data"
    }
   ],
   "source": [
    "silhouette = []\n",
    "for i in range(2, 15):\n",
    "    kmeans = KMeans(n_clusters=i, init='k-means++', max_iter=300, random_state=0)\n",
    "    kmeans.fit(dataNew)\n",
    "    silhouette.append(metrics.silhouette_score(dataNew, kmeans.labels_))\n",
    "plt.figure(figsize=(15,5))\n",
    "plt.grid()\n",
    "plt.plot(range(2, 15), silhouette)\n",
    "plt.title('silhouetteMethod')\n",
    "plt.xlabel('Number of clusters')\n",
    "plt.ylabel('silhouette score')\n",
    "plt.show()"
   ]
  },
  {
   "cell_type": "markdown",
   "metadata": {},
   "source": [
    "## Произведем обучение модели с n_clusters=4"
   ]
  },
  {
   "cell_type": "code",
   "execution_count": 67,
   "metadata": {},
   "outputs": [
    {
     "data": {
      "text/plain": [
       "KMeans(n_clusters=4)"
      ]
     },
     "execution_count": 67,
     "metadata": {},
     "output_type": "execute_result"
    }
   ],
   "source": [
    "kmeans = KMeans(n_clusters=4, init='k-means++', max_iter=300)\n",
    "kmeans.fit(dataNew)"
   ]
  },
  {
   "cell_type": "code",
   "execution_count": 68,
   "metadata": {},
   "outputs": [
    {
     "data": {
      "text/plain": [
       "0.1058440838997736"
      ]
     },
     "execution_count": 68,
     "metadata": {},
     "output_type": "execute_result"
    }
   ],
   "source": [
    "# ARI\n",
    "adjusted_rand_score(Y, kmeans.labels_)"
   ]
  },
  {
   "cell_type": "code",
   "execution_count": 69,
   "metadata": {},
   "outputs": [
    {
     "data": {
      "text/plain": [
       "0.20331767489934896"
      ]
     },
     "execution_count": 69,
     "metadata": {},
     "output_type": "execute_result"
    }
   ],
   "source": [
    "# AMI\n",
    "adjusted_mutual_info_score(Y, kmeans.labels_)"
   ]
  },
  {
   "cell_type": "code",
   "execution_count": 70,
   "metadata": {},
   "outputs": [
    {
     "data": {
      "text/plain": [
       "0.3197339603017692"
      ]
     },
     "execution_count": 70,
     "metadata": {},
     "output_type": "execute_result"
    }
   ],
   "source": [
    "# Completeness\n",
    "completeness_score(Y, kmeans.labels_)"
   ]
  }
 ],
 "metadata": {
  "kernelspec": {
   "display_name": "Python 3",
   "language": "python",
   "name": "python3"
  },
  "language_info": {
   "codemirror_mode": {
    "name": "ipython",
    "version": 3
   },
   "file_extension": ".py",
   "mimetype": "text/x-python",
   "name": "python",
   "nbconvert_exporter": "python",
   "pygments_lexer": "ipython3",
   "version": "3.7.3"
  }
 },
 "nbformat": 4,
 "nbformat_minor": 2
}
